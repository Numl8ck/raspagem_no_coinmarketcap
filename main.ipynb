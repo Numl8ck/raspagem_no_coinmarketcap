{
 "cells": [
  {
   "cell_type": "code",
   "execution_count": 16,
   "metadata": {},
   "outputs": [],
   "source": [
    "from bs4 import BeautifulSoup\n",
    "import requests\n",
    "import re\n",
    "\n",
    "link = 'https://coinmarketcap.com/pt-br/'\n",
    "req = requests.get(link)\n",
    "site = BeautifulSoup(req.text, 'html.parser')"
   ]
  },
  {
   "cell_type": "markdown",
   "metadata": {},
   "source": [
    "#### Extraindo o nome das 10 primeiras moedas na tabela"
   ]
  },
  {
   "cell_type": "code",
   "execution_count": 17,
   "metadata": {},
   "outputs": [
    {
     "data": {
      "text/plain": [
       "['Bitcoin',\n",
       " 'Ethereum',\n",
       " 'Tether',\n",
       " 'BNB',\n",
       " 'Solana',\n",
       " 'USDC',\n",
       " 'XRP',\n",
       " 'Toncoin',\n",
       " 'Dogecoin',\n",
       " 'Cardano']"
      ]
     },
     "execution_count": 17,
     "metadata": {},
     "output_type": "execute_result"
    }
   ],
   "source": [
    "tabela = site.find('tbody')\n",
    "moedas_classe = tabela.find_all(class_='ehyBa-d')\n",
    "moedas_nome = [moeda.contents[0] for moeda in moedas_classe]\n",
    "moedas_nome"
   ]
  },
  {
   "cell_type": "markdown",
   "metadata": {},
   "source": [
    "#### Extraindo o preço das moedas"
   ]
  },
  {
   "cell_type": "code",
   "execution_count": 18,
   "metadata": {},
   "outputs": [
    {
     "data": {
      "text/plain": [
       "['R$340,249.93',\n",
       " 'R$18,649.29',\n",
       " 'R$5.50',\n",
       " 'R$3,169.76',\n",
       " 'R$765.13',\n",
       " 'R$5.50',\n",
       " 'R$2.62',\n",
       " 'R$41.21',\n",
       " 'R$0.6891',\n",
       " 'R$2.17']"
      ]
     },
     "execution_count": 18,
     "metadata": {},
     "output_type": "execute_result"
    }
   ],
   "source": [
    "preco_classe = tabela.find_all(class_='gPTgRa')\n",
    "precos = [preco.contents[0].text for preco in preco_classe]\n",
    "precos"
   ]
  },
  {
   "cell_type": "markdown",
   "metadata": {},
   "source": [
    "#### Extraindo a informação de variação das moedas"
   ]
  },
  {
   "cell_type": "markdown",
   "metadata": {},
   "source": [
    "Aqui as variações estão distribuídas da seguinte forma: O primeiro item é a variação de 1h, o segundo é a variação de 24h e o terceiro é a variação de 7 dias. Os três primeiros itens da lista são as variações da primeria moeda da tabela, os próximos 3 são as variaçoes da segunda moeda e assim vai."
   ]
  },
  {
   "cell_type": "code",
   "execution_count": 19,
   "metadata": {},
   "outputs": [
    {
     "data": {
      "text/plain": [
       "['0.57%',\n",
       " '2.18%',\n",
       " '-4.31%',\n",
       " '0.44%',\n",
       " '1.90%',\n",
       " '-3.42%',\n",
       " '-0.19%',\n",
       " '1.31%',\n",
       " '0.68%',\n",
       " '0.61%',\n",
       " '1.87%',\n",
       " '-2.79%',\n",
       " '1.41%',\n",
       " '2.90%',\n",
       " '2.09%',\n",
       " '-0.19%',\n",
       " '1.27%',\n",
       " '0.66%',\n",
       " '0.15%',\n",
       " '1.24%',\n",
       " '-2.80%',\n",
       " '0.22%',\n",
       " '-0.02%',\n",
       " '9.03%',\n",
       " '0.98%',\n",
       " '2.51%',\n",
       " '1.94%',\n",
       " '0.72%',\n",
       " '2.10%',\n",
       " '2.62%']"
      ]
     },
     "execution_count": 19,
     "metadata": {},
     "output_type": "execute_result"
    }
   ],
   "source": [
    "variacoes = tabela.find_all(string=re.compile(\"%\"))\n",
    "for i, variacao in enumerate(variacoes):\n",
    "  if \"ivvJzO\" in variacao.parent['class']:\n",
    "    variacoes[i] = \"-\" + variacao\n",
    "variacoes"
   ]
  },
  {
   "cell_type": "markdown",
   "metadata": {},
   "source": [
    "#### Extraindo a informação de capitalização de mercado para cada moeda"
   ]
  },
  {
   "cell_type": "markdown",
   "metadata": {},
   "source": [
    "A capitalização de mercado é:<br> O valor total de mercado do fornecimento em circulação de uma criptomoeda. É semelhante à capitalização do free float no mercado de ações.\n",
    "\n",
    "Capitalizado de Mercado = Preço Atual x Fornecimento em Circulação."
   ]
  },
  {
   "cell_type": "code",
   "execution_count": 20,
   "metadata": {},
   "outputs": [
    {
     "data": {
      "text/plain": [
       "['R$6,709,090,838,122',\n",
       " 'R$2,241,609,032,598',\n",
       " 'R$620,564,721,744',\n",
       " 'R$467,629,526,918',\n",
       " 'R$353,678,195,026',\n",
       " 'R$181,054,711,920',\n",
       " 'R$145,527,132,577',\n",
       " 'R$101,299,287,836',\n",
       " 'R$99,823,129,922',\n",
       " 'R$77,458,897,999']"
      ]
     },
     "execution_count": 20,
     "metadata": {},
     "output_type": "execute_result"
    }
   ],
   "source": [
    "cap_elementos = tabela.find_all(class_='hwOFkt')\n",
    "cap_mercado = [cap.contents[0] for cap in cap_elementos]\n",
    "cap_mercado"
   ]
  },
  {
   "cell_type": "markdown",
   "metadata": {},
   "source": [
    "#### Extraindo o volume de cada moeda"
   ]
  },
  {
   "cell_type": "markdown",
   "metadata": {},
   "source": [
    "O volume é uma medida de quanto de uma criptomoeda foi negociada nas últimas 24 horas."
   ]
  },
  {
   "cell_type": "code",
   "execution_count": 21,
   "metadata": {},
   "outputs": [
    {
     "data": {
      "text/plain": [
       "['R$6.71T',\n",
       " 'R$139,736,146,182',\n",
       " 'R$2.24T',\n",
       " 'R$63,794,824,970',\n",
       " 'R$620.56B',\n",
       " 'R$261,422,502,220',\n",
       " 'R$467.63B',\n",
       " 'R$8,440,589,877',\n",
       " 'R$353.68B',\n",
       " 'R$10,758,562,133',\n",
       " 'R$181.05B',\n",
       " 'R$29,582,545,461',\n",
       " 'R$145.53B',\n",
       " 'R$4,824,518,462',\n",
       " 'R$101.3B',\n",
       " 'R$1,470,308,948',\n",
       " 'R$99.82B',\n",
       " 'R$3,355,089,523',\n",
       " 'R$77.46B',\n",
       " 'R$1,315,282,728']"
      ]
     },
     "execution_count": 21,
     "metadata": {},
     "output_type": "execute_result"
    }
   ],
   "source": [
    "volume_elementos = tabela.find_all(class_='bbHOdE')\n",
    "volume_24h = [volume.contents[0].text for volume in volume_elementos]\n",
    "volume_24h"
   ]
  },
  {
   "cell_type": "markdown",
   "metadata": {},
   "source": [
    "#### Existem outros elementos no site com a mesma classe que o volume, na seguinte célula eu trato esse problema, garantindo que estou extraindo apenas o volume."
   ]
  },
  {
   "cell_type": "code",
   "execution_count": 22,
   "metadata": {},
   "outputs": [
    {
     "data": {
      "text/plain": [
       "['R$139,736,146,182',\n",
       " 'R$63,794,824,970',\n",
       " 'R$261,422,502,220',\n",
       " 'R$8,440,589,877',\n",
       " 'R$10,758,562,133',\n",
       " 'R$29,582,545,461',\n",
       " 'R$4,824,518,462',\n",
       " 'R$1,470,308,948',\n",
       " 'R$3,355,089,523',\n",
       " 'R$1,315,282,728']"
      ]
     },
     "execution_count": 22,
     "metadata": {},
     "output_type": "execute_result"
    }
   ],
   "source": [
    "for volume in volume_24h:\n",
    "  if volume.endswith('T') or volume.endswith('B'):\n",
    "    volume_24h.remove(volume)\n",
    "volume_24h"
   ]
  },
  {
   "cell_type": "markdown",
   "metadata": {},
   "source": [
    "#### Extraindo o fornecimento circulante de cada moeda"
   ]
  },
  {
   "cell_type": "markdown",
   "metadata": {},
   "source": [
    "O fornecimento circulante é a quantidade de moedas que estão circulando no mercado e estão nas mãos do público. É parecido com a flutuação de ações no mercado de ações."
   ]
  },
  {
   "cell_type": "code",
   "execution_count": 23,
   "metadata": {},
   "outputs": [
    {
     "data": {
      "text/plain": [
       "['19,717,071 BTC',\n",
       " '120,178,989 ETH',\n",
       " '112,829,626,104 USDT',\n",
       " '147,583,445 BNB',\n",
       " '462,246,430 SOL',\n",
       " '32,912,286,253 USDC',\n",
       " '55,618,185,850 XRP',\n",
       " '2,458,373,537 TON',\n",
       " '144,868,946,384 DOGE',\n",
       " '35,745,472,248 ADA']"
      ]
     },
     "execution_count": 23,
     "metadata": {},
     "output_type": "execute_result"
    }
   ],
   "source": [
    "fornecimento_elementos = tabela.find_all(class_='hhmVNu')\n",
    "fornecimento_circulante = [each.text for each in fornecimento_elementos]\n",
    "fornecimento_circulante"
   ]
  },
  {
   "cell_type": "markdown",
   "metadata": {},
   "source": [
    "## Criando um dicionário com as informações de cada moeda"
   ]
  },
  {
   "cell_type": "code",
   "execution_count": 24,
   "metadata": {},
   "outputs": [
    {
     "name": "stdout",
     "output_type": "stream",
     "text": [
      "Bitcoin {'Preço': 'R$340,249.93', 'Variação 1h': '0.57%', 'Variação 24h': '2.18%', 'Variação 7d': '-4.31%', 'Cap. de Mercado': 'R$6,709,090,838,122', 'Volume (24h)': 'R$139,736,146,182', 'Fornecimento Circulante': '19,717,071 BTC'}\n",
      "\n",
      "Ethereum {'Preço': 'R$18,649.29', 'Variação 1h': '0.44%', 'Variação 24h': '1.90%', 'Variação 7d': '-3.42%', 'Cap. de Mercado': 'R$2,241,609,032,598', 'Volume (24h)': 'R$63,794,824,970', 'Fornecimento Circulante': '120,178,989 ETH'}\n",
      "\n",
      "Tether {'Preço': 'R$5.50', 'Variação 1h': '-0.19%', 'Variação 24h': '1.31%', 'Variação 7d': '0.68%', 'Cap. de Mercado': 'R$620,564,721,744', 'Volume (24h)': 'R$261,422,502,220', 'Fornecimento Circulante': '112,829,626,104 USDT'}\n",
      "\n",
      "BNB {'Preço': 'R$3,169.76', 'Variação 1h': '0.61%', 'Variação 24h': '1.87%', 'Variação 7d': '-2.79%', 'Cap. de Mercado': 'R$467,629,526,918', 'Volume (24h)': 'R$8,440,589,877', 'Fornecimento Circulante': '147,583,445 BNB'}\n",
      "\n",
      "Solana {'Preço': 'R$765.13', 'Variação 1h': '1.41%', 'Variação 24h': '2.90%', 'Variação 7d': '2.09%', 'Cap. de Mercado': 'R$353,678,195,026', 'Volume (24h)': 'R$10,758,562,133', 'Fornecimento Circulante': '462,246,430 SOL'}\n",
      "\n",
      "USDC {'Preço': 'R$5.50', 'Variação 1h': '-0.19%', 'Variação 24h': '1.27%', 'Variação 7d': '0.66%', 'Cap. de Mercado': 'R$181,054,711,920', 'Volume (24h)': 'R$29,582,545,461', 'Fornecimento Circulante': '32,912,286,253 USDC'}\n",
      "\n",
      "XRP {'Preço': 'R$2.62', 'Variação 1h': '0.15%', 'Variação 24h': '1.24%', 'Variação 7d': '-2.80%', 'Cap. de Mercado': 'R$145,527,132,577', 'Volume (24h)': 'R$4,824,518,462', 'Fornecimento Circulante': '55,618,185,850 XRP'}\n",
      "\n",
      "Toncoin {'Preço': 'R$41.21', 'Variação 1h': '0.22%', 'Variação 24h': '-0.02%', 'Variação 7d': '9.03%', 'Cap. de Mercado': 'R$101,299,287,836', 'Volume (24h)': 'R$1,470,308,948', 'Fornecimento Circulante': '2,458,373,537 TON'}\n",
      "\n",
      "Dogecoin {'Preço': 'R$0.6891', 'Variação 1h': '0.98%', 'Variação 24h': '2.51%', 'Variação 7d': '1.94%', 'Cap. de Mercado': 'R$99,823,129,922', 'Volume (24h)': 'R$3,355,089,523', 'Fornecimento Circulante': '144,868,946,384 DOGE'}\n",
      "\n",
      "Cardano {'Preço': 'R$2.17', 'Variação 1h': '0.72%', 'Variação 24h': '2.10%', 'Variação 7d': '2.62%', 'Cap. de Mercado': 'R$77,458,897,999', 'Volume (24h)': 'R$1,315,282,728', 'Fornecimento Circulante': '35,745,472,248 ADA'}\n",
      "\n"
     ]
    }
   ],
   "source": [
    "moedas = {moeda: {\"Preço\": precos[i]} for i, moeda in enumerate(moedas_nome)}\n",
    "\n",
    "for i, moeda in enumerate(moedas):\n",
    "  moedas[moeda]['Variação 1h'] = variacoes.pop(i-i)\n",
    "  moedas[moeda]['Variação 24h'] = variacoes.pop(i-i)\n",
    "  moedas[moeda]['Variação 7d'] = variacoes.pop(i-i)\n",
    "\n",
    "for i, moeda in enumerate(moedas):\n",
    "  moedas[moeda]['Cap. de Mercado'] = cap_mercado[i]\n",
    "\n",
    "for i, moeda in enumerate(moedas):\n",
    "  moedas[moeda]['Volume (24h)'] = volume_24h[i]\n",
    "\n",
    "for i, moeda in enumerate(moedas):\n",
    "  moedas[moeda]['Fornecimento Circulante'] = fornecimento_circulante[i]\n",
    "\n",
    "for moeda in moedas:\n",
    "  print(moeda, moedas[moeda])\n",
    "  print()"
   ]
  },
  {
   "cell_type": "markdown",
   "metadata": {},
   "source": [
    "## Criando o dataframe"
   ]
  },
  {
   "cell_type": "code",
   "execution_count": 25,
   "metadata": {},
   "outputs": [
    {
     "data": {
      "text/html": [
       "<div>\n",
       "<style scoped>\n",
       "    .dataframe tbody tr th:only-of-type {\n",
       "        vertical-align: middle;\n",
       "    }\n",
       "\n",
       "    .dataframe tbody tr th {\n",
       "        vertical-align: top;\n",
       "    }\n",
       "\n",
       "    .dataframe thead th {\n",
       "        text-align: right;\n",
       "    }\n",
       "</style>\n",
       "<table border=\"1\" class=\"dataframe\">\n",
       "  <thead>\n",
       "    <tr style=\"text-align: right;\">\n",
       "      <th></th>\n",
       "      <th>Bitcoin</th>\n",
       "      <th>Ethereum</th>\n",
       "      <th>Tether</th>\n",
       "      <th>BNB</th>\n",
       "      <th>Solana</th>\n",
       "      <th>USDC</th>\n",
       "      <th>XRP</th>\n",
       "      <th>Toncoin</th>\n",
       "      <th>Dogecoin</th>\n",
       "      <th>Cardano</th>\n",
       "    </tr>\n",
       "  </thead>\n",
       "  <tbody>\n",
       "    <tr>\n",
       "      <th>Preço</th>\n",
       "      <td>R$340,249.93</td>\n",
       "      <td>R$18,649.29</td>\n",
       "      <td>R$5.50</td>\n",
       "      <td>R$3,169.76</td>\n",
       "      <td>R$765.13</td>\n",
       "      <td>R$5.50</td>\n",
       "      <td>R$2.62</td>\n",
       "      <td>R$41.21</td>\n",
       "      <td>R$0.6891</td>\n",
       "      <td>R$2.17</td>\n",
       "    </tr>\n",
       "    <tr>\n",
       "      <th>Variação 1h</th>\n",
       "      <td>0.57%</td>\n",
       "      <td>0.44%</td>\n",
       "      <td>-0.19%</td>\n",
       "      <td>0.61%</td>\n",
       "      <td>1.41%</td>\n",
       "      <td>-0.19%</td>\n",
       "      <td>0.15%</td>\n",
       "      <td>0.22%</td>\n",
       "      <td>0.98%</td>\n",
       "      <td>0.72%</td>\n",
       "    </tr>\n",
       "    <tr>\n",
       "      <th>Variação 24h</th>\n",
       "      <td>2.18%</td>\n",
       "      <td>1.90%</td>\n",
       "      <td>1.31%</td>\n",
       "      <td>1.87%</td>\n",
       "      <td>2.90%</td>\n",
       "      <td>1.27%</td>\n",
       "      <td>1.24%</td>\n",
       "      <td>-0.02%</td>\n",
       "      <td>2.51%</td>\n",
       "      <td>2.10%</td>\n",
       "    </tr>\n",
       "    <tr>\n",
       "      <th>Variação 7d</th>\n",
       "      <td>-4.31%</td>\n",
       "      <td>-3.42%</td>\n",
       "      <td>0.68%</td>\n",
       "      <td>-2.79%</td>\n",
       "      <td>2.09%</td>\n",
       "      <td>0.66%</td>\n",
       "      <td>-2.80%</td>\n",
       "      <td>9.03%</td>\n",
       "      <td>1.94%</td>\n",
       "      <td>2.62%</td>\n",
       "    </tr>\n",
       "    <tr>\n",
       "      <th>Cap. de Mercado</th>\n",
       "      <td>R$6,709,090,838,122</td>\n",
       "      <td>R$2,241,609,032,598</td>\n",
       "      <td>R$620,564,721,744</td>\n",
       "      <td>R$467,629,526,918</td>\n",
       "      <td>R$353,678,195,026</td>\n",
       "      <td>R$181,054,711,920</td>\n",
       "      <td>R$145,527,132,577</td>\n",
       "      <td>R$101,299,287,836</td>\n",
       "      <td>R$99,823,129,922</td>\n",
       "      <td>R$77,458,897,999</td>\n",
       "    </tr>\n",
       "    <tr>\n",
       "      <th>Volume (24h)</th>\n",
       "      <td>R$139,736,146,182</td>\n",
       "      <td>R$63,794,824,970</td>\n",
       "      <td>R$261,422,502,220</td>\n",
       "      <td>R$8,440,589,877</td>\n",
       "      <td>R$10,758,562,133</td>\n",
       "      <td>R$29,582,545,461</td>\n",
       "      <td>R$4,824,518,462</td>\n",
       "      <td>R$1,470,308,948</td>\n",
       "      <td>R$3,355,089,523</td>\n",
       "      <td>R$1,315,282,728</td>\n",
       "    </tr>\n",
       "    <tr>\n",
       "      <th>Fornecimento Circulante</th>\n",
       "      <td>19,717,071 BTC</td>\n",
       "      <td>120,178,989 ETH</td>\n",
       "      <td>112,829,626,104 USDT</td>\n",
       "      <td>147,583,445 BNB</td>\n",
       "      <td>462,246,430 SOL</td>\n",
       "      <td>32,912,286,253 USDC</td>\n",
       "      <td>55,618,185,850 XRP</td>\n",
       "      <td>2,458,373,537 TON</td>\n",
       "      <td>144,868,946,384 DOGE</td>\n",
       "      <td>35,745,472,248 ADA</td>\n",
       "    </tr>\n",
       "  </tbody>\n",
       "</table>\n",
       "</div>"
      ],
      "text/plain": [
       "                                     Bitcoin             Ethereum  \\\n",
       "Preço                           R$340,249.93          R$18,649.29   \n",
       "Variação 1h                            0.57%                0.44%   \n",
       "Variação 24h                           2.18%                1.90%   \n",
       "Variação 7d                           -4.31%               -3.42%   \n",
       "Cap. de Mercado          R$6,709,090,838,122  R$2,241,609,032,598   \n",
       "Volume (24h)               R$139,736,146,182     R$63,794,824,970   \n",
       "Fornecimento Circulante       19,717,071 BTC      120,178,989 ETH   \n",
       "\n",
       "                                       Tether                BNB  \\\n",
       "Preço                                  R$5.50         R$3,169.76   \n",
       "Variação 1h                            -0.19%              0.61%   \n",
       "Variação 24h                            1.31%              1.87%   \n",
       "Variação 7d                             0.68%             -2.79%   \n",
       "Cap. de Mercado             R$620,564,721,744  R$467,629,526,918   \n",
       "Volume (24h)                R$261,422,502,220    R$8,440,589,877   \n",
       "Fornecimento Circulante  112,829,626,104 USDT    147,583,445 BNB   \n",
       "\n",
       "                                    Solana                 USDC  \\\n",
       "Preço                             R$765.13               R$5.50   \n",
       "Variação 1h                          1.41%               -0.19%   \n",
       "Variação 24h                         2.90%                1.27%   \n",
       "Variação 7d                          2.09%                0.66%   \n",
       "Cap. de Mercado          R$353,678,195,026    R$181,054,711,920   \n",
       "Volume (24h)              R$10,758,562,133     R$29,582,545,461   \n",
       "Fornecimento Circulante    462,246,430 SOL  32,912,286,253 USDC   \n",
       "\n",
       "                                        XRP            Toncoin  \\\n",
       "Preço                                R$2.62            R$41.21   \n",
       "Variação 1h                           0.15%              0.22%   \n",
       "Variação 24h                          1.24%             -0.02%   \n",
       "Variação 7d                          -2.80%              9.03%   \n",
       "Cap. de Mercado           R$145,527,132,577  R$101,299,287,836   \n",
       "Volume (24h)                R$4,824,518,462    R$1,470,308,948   \n",
       "Fornecimento Circulante  55,618,185,850 XRP  2,458,373,537 TON   \n",
       "\n",
       "                                     Dogecoin             Cardano  \n",
       "Preço                                R$0.6891              R$2.17  \n",
       "Variação 1h                             0.98%               0.72%  \n",
       "Variação 24h                            2.51%               2.10%  \n",
       "Variação 7d                             1.94%               2.62%  \n",
       "Cap. de Mercado              R$99,823,129,922    R$77,458,897,999  \n",
       "Volume (24h)                  R$3,355,089,523     R$1,315,282,728  \n",
       "Fornecimento Circulante  144,868,946,384 DOGE  35,745,472,248 ADA  "
      ]
     },
     "execution_count": 25,
     "metadata": {},
     "output_type": "execute_result"
    }
   ],
   "source": [
    "import pandas as pd\n",
    "\n",
    "moedas_df = pd.DataFrame(moedas)\n",
    "moedas_df"
   ]
  },
  {
   "cell_type": "markdown",
   "metadata": {},
   "source": [
    "### Criando uma função para consultar uma moeda específica"
   ]
  },
  {
   "cell_type": "code",
   "execution_count": 26,
   "metadata": {},
   "outputs": [
    {
     "name": "stdout",
     "output_type": "stream",
     "text": [
      "Solana\n"
     ]
    },
    {
     "data": {
      "text/plain": [
       "{'Preço': 'R$765.13',\n",
       " 'Variação 1h': '1.41%',\n",
       " 'Variação 24h': '2.90%',\n",
       " 'Variação 7d': '2.09%',\n",
       " 'Cap. de Mercado': 'R$353,678,195,026',\n",
       " 'Volume (24h)': 'R$10,758,562,133',\n",
       " 'Fornecimento Circulante': '462,246,430 SOL'}"
      ]
     },
     "execution_count": 26,
     "metadata": {},
     "output_type": "execute_result"
    }
   ],
   "source": [
    "def consultar_moeda():\n",
    "  moeda = input(\"Qual moeda você deseja consultar?\")\n",
    "  moeda = moeda.casefold()\n",
    "  moeda = moeda.title()\n",
    "  if moeda == 'Bnb':\n",
    "    moeda = moeda.upper()\n",
    "  elif moeda == 'Usdc':\n",
    "    moeda = moeda.upper()\n",
    "  elif moeda == 'Xrp':\n",
    "    moeda = moeda.upper()\n",
    "  def consultar(moeda):\n",
    "    try:\n",
    "      print(moeda)\n",
    "      return moedas[moeda]\n",
    "    except:\n",
    "      print(\"Moeda inválida!\")\n",
    "  return consultar(moeda)\n",
    "\n",
    "consultar_moeda()"
   ]
  }
 ],
 "metadata": {
  "kernelspec": {
   "display_name": "Python 3",
   "language": "python",
   "name": "python3"
  },
  "language_info": {
   "codemirror_mode": {
    "name": "ipython",
    "version": 3
   },
   "file_extension": ".py",
   "mimetype": "text/x-python",
   "name": "python",
   "nbconvert_exporter": "python",
   "pygments_lexer": "ipython3",
   "version": "3.12.3"
  }
 },
 "nbformat": 4,
 "nbformat_minor": 2
}
