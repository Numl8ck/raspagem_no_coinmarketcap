{
 "cells": [
  {
   "cell_type": "code",
   "execution_count": 278,
   "metadata": {},
   "outputs": [],
   "source": [
    "from bs4 import BeautifulSoup\n",
    "import requests\n",
    "import re\n",
    "\n",
    "link = 'https://coinmarketcap.com/pt-br/'\n",
    "req = requests.get(link)\n",
    "site = BeautifulSoup(req.text, 'html.parser')"
   ]
  },
  {
   "cell_type": "markdown",
   "metadata": {},
   "source": [
    "#### Extraindo o nome das 10 primeiras moedas na tabela"
   ]
  },
  {
   "cell_type": "code",
   "execution_count": 279,
   "metadata": {},
   "outputs": [
    {
     "data": {
      "text/plain": [
       "['Bitcoin',\n",
       " 'Ethereum',\n",
       " 'Tether',\n",
       " 'BNB',\n",
       " 'Solana',\n",
       " 'USDC',\n",
       " 'XRP',\n",
       " 'Dogecoin',\n",
       " 'Toncoin',\n",
       " 'Cardano']"
      ]
     },
     "execution_count": 279,
     "metadata": {},
     "output_type": "execute_result"
    }
   ],
   "source": [
    "tabela = site.find('tbody')\n",
    "moedas_classe = tabela.find_all(class_='ehyBa-d')\n",
    "moedas_nome = [moeda.contents[0] for moeda in moedas_classe]\n",
    "moedas_nome"
   ]
  },
  {
   "cell_type": "markdown",
   "metadata": {},
   "source": [
    "#### Extraindo o preço das moedas"
   ]
  },
  {
   "cell_type": "code",
   "execution_count": 280,
   "metadata": {},
   "outputs": [
    {
     "data": {
      "text/plain": [
       "['R$356,234.27',\n",
       " 'R$19,269.49',\n",
       " 'R$5.35',\n",
       " 'R$3,264.01',\n",
       " 'R$798.49',\n",
       " 'R$5.36',\n",
       " 'R$2.62',\n",
       " 'R$0.728',\n",
       " 'R$43.21',\n",
       " 'R$2.23']"
      ]
     },
     "execution_count": 280,
     "metadata": {},
     "output_type": "execute_result"
    }
   ],
   "source": [
    "preco_classe = tabela.find_all(class_='gPTgRa')\n",
    "precos = [preco.contents[0].text for preco in preco_classe]\n",
    "precos"
   ]
  },
  {
   "cell_type": "markdown",
   "metadata": {},
   "source": [
    "#### Extraindo a informação de variação das moedas"
   ]
  },
  {
   "cell_type": "markdown",
   "metadata": {},
   "source": [
    "Aqui as variações estão distribuídas da seguinte forma: O primeiro item é a variação de 1h, o segundo é a variação de 24h e o terceiro é a variação de 7 dias. Os três primeiros itens da lista são as variações da primeria moeda da tabela, os próximos 3 são as variaçoes da segunda moeda e assim vai."
   ]
  },
  {
   "cell_type": "code",
   "execution_count": 281,
   "metadata": {},
   "outputs": [
    {
     "data": {
      "text/plain": [
       "['0.13%',\n",
       " '0.30%',\n",
       " '4.06%',\n",
       " '0.15%',\n",
       " '0.77%',\n",
       " '2.23%',\n",
       " '0.17%',\n",
       " '0.37%',\n",
       " '0.53%',\n",
       " '0.19%',\n",
       " '0.30%',\n",
       " '8.86%',\n",
       " '0.54%',\n",
       " '2.79%',\n",
       " '7.32%',\n",
       " '0.17%',\n",
       " '0.34%',\n",
       " '0.61%',\n",
       " '0.31%',\n",
       " '0.68%',\n",
       " '1.11%',\n",
       " '0.00%',\n",
       " '0.54%',\n",
       " '7.00%',\n",
       " '0.11%',\n",
       " '1.96%',\n",
       " '14.47%',\n",
       " '0.10%',\n",
       " '0.54%',\n",
       " '5.98%']"
      ]
     },
     "execution_count": 281,
     "metadata": {},
     "output_type": "execute_result"
    }
   ],
   "source": [
    "variacoes = tabela.find_all(string=re.compile(\"%\"))\n",
    "variacoes"
   ]
  },
  {
   "cell_type": "markdown",
   "metadata": {},
   "source": [
    "#### Extraindo a informação de capitalização de mercado para cada moeda"
   ]
  },
  {
   "cell_type": "markdown",
   "metadata": {},
   "source": [
    "A capitalização de mercado é:<br> O valor total de mercado do fornecimento em circulação de uma criptomoeda. É semelhante à capitalização do free float no mercado de ações.\n",
    "\n",
    "Capitalizado de Mercado = Preço Atual x Fornecimento em Circulação."
   ]
  },
  {
   "cell_type": "code",
   "execution_count": 282,
   "metadata": {},
   "outputs": [
    {
     "data": {
      "text/plain": [
       "['R$7,022,237,295,920',\n",
       " 'R$2,315,249,946,493',\n",
       " 'R$602,734,763,544',\n",
       " 'R$481,737,186,831',\n",
       " 'R$368,747,220,300',\n",
       " 'R$174,121,066,335',\n",
       " 'R$145,755,144,739',\n",
       " 'R$105,375,955,266',\n",
       " 'R$105,136,085,404',\n",
       " 'R$79,581,823,099']"
      ]
     },
     "execution_count": 282,
     "metadata": {},
     "output_type": "execute_result"
    }
   ],
   "source": [
    "cap_elementos = tabela.find_all(class_='hwOFkt')\n",
    "cap_mercado = [cap.contents[0] for cap in cap_elementos]\n",
    "cap_mercado"
   ]
  },
  {
   "cell_type": "markdown",
   "metadata": {},
   "source": [
    "#### Extraindo o volume de cada moeda"
   ]
  },
  {
   "cell_type": "markdown",
   "metadata": {},
   "source": [
    "O volume é uma medida de quanto de uma criptomoeda foi negociada nas últimas 24 horas."
   ]
  },
  {
   "cell_type": "code",
   "execution_count": 283,
   "metadata": {},
   "outputs": [
    {
     "data": {
      "text/plain": [
       "['R$7.02T',\n",
       " 'R$65,264,938,868',\n",
       " 'R$2.32T',\n",
       " 'R$48,289,381,483',\n",
       " 'R$602.73B',\n",
       " 'R$161,287,835,245',\n",
       " 'R$481.74B',\n",
       " 'R$7,545,040,684',\n",
       " 'R$368.75B',\n",
       " 'R$5,482,982,773',\n",
       " 'R$174.12B',\n",
       " 'R$12,891,947,387',\n",
       " 'R$145.76B',\n",
       " 'R$3,787,312,738',\n",
       " 'R$105.38B',\n",
       " 'R$1,959,632,334',\n",
       " 'R$105.14B',\n",
       " 'R$1,342,147,322',\n",
       " 'R$79.58B',\n",
       " 'R$895,347,686']"
      ]
     },
     "execution_count": 283,
     "metadata": {},
     "output_type": "execute_result"
    }
   ],
   "source": [
    "volume_elementos = tabela.find_all(class_='bbHOdE')\n",
    "volume_24h = [volume.contents[0].text for volume in volume_elementos]\n",
    "volume_24h"
   ]
  },
  {
   "cell_type": "markdown",
   "metadata": {},
   "source": [
    "#### Existem outros elementos no site com a mesma classe que o volume, na seguinte célula eu trato esse problema, garantindo que estou extraindo apenas o volume."
   ]
  },
  {
   "cell_type": "code",
   "execution_count": 284,
   "metadata": {},
   "outputs": [
    {
     "data": {
      "text/plain": [
       "['R$65,264,938,868',\n",
       " 'R$48,289,381,483',\n",
       " 'R$161,287,835,245',\n",
       " 'R$7,545,040,684',\n",
       " 'R$5,482,982,773',\n",
       " 'R$12,891,947,387',\n",
       " 'R$3,787,312,738',\n",
       " 'R$1,959,632,334',\n",
       " 'R$1,342,147,322',\n",
       " 'R$895,347,686']"
      ]
     },
     "execution_count": 284,
     "metadata": {},
     "output_type": "execute_result"
    }
   ],
   "source": [
    "for volume in volume_24h:\n",
    "  if volume.endswith('T') or volume.endswith('B'):\n",
    "    volume_24h.remove(volume)\n",
    "volume_24h"
   ]
  },
  {
   "cell_type": "markdown",
   "metadata": {},
   "source": [
    "#### Extraindo o fornecimento circulante de cada moeda"
   ]
  },
  {
   "cell_type": "markdown",
   "metadata": {},
   "source": [
    "O fornecimento circulante é a quantidade de moedas que estão circulando no mercado e estão nas mãos do público. É parecido com a flutuação de ações no mercado de ações."
   ]
  },
  {
   "cell_type": "code",
   "execution_count": 285,
   "metadata": {},
   "outputs": [
    {
     "data": {
      "text/plain": [
       "['19,713,231 BTC',\n",
       " '120,154,584 ETH',\n",
       " '112,559,949,271 USDT',\n",
       " '147,584,076 BNB',\n",
       " '461,808,053 SOL',\n",
       " '32,490,144,305 USDC',\n",
       " '55,570,463,728 XRP',\n",
       " '144,737,596,384 DOGE',\n",
       " '2,432,953,027 TON',\n",
       " '35,728,563,624 ADA']"
      ]
     },
     "execution_count": 285,
     "metadata": {},
     "output_type": "execute_result"
    }
   ],
   "source": [
    "fornecimento_elementos = tabela.find_all(class_='hhmVNu')\n",
    "fornecimento_circulante = [each.text for each in fornecimento_elementos]\n",
    "fornecimento_circulante"
   ]
  },
  {
   "cell_type": "markdown",
   "metadata": {},
   "source": [
    "## Criando um dicionário com as informações de cada moeda"
   ]
  },
  {
   "cell_type": "code",
   "execution_count": 286,
   "metadata": {},
   "outputs": [
    {
     "name": "stdout",
     "output_type": "stream",
     "text": [
      "Bitcoin {'Preço': 'R$356,234.27', 'Variação 1h': '0.13%', 'Variação 24h': '0.30%', 'Variação 7d': '4.06%', 'Cap. de Mercado': 'R$7,022,237,295,920', 'Volume (24h)': 'R$65,264,938,868', 'Fornecimento Circulante': '19,713,231 BTC'}\n",
      "\n",
      "Ethereum {'Preço': 'R$19,269.49', 'Variação 1h': '0.15%', 'Variação 24h': '0.77%', 'Variação 7d': '2.23%', 'Cap. de Mercado': 'R$2,315,249,946,493', 'Volume (24h)': 'R$48,289,381,483', 'Fornecimento Circulante': '120,154,584 ETH'}\n",
      "\n",
      "Tether {'Preço': 'R$5.35', 'Variação 1h': '0.17%', 'Variação 24h': '0.37%', 'Variação 7d': '0.53%', 'Cap. de Mercado': 'R$602,734,763,544', 'Volume (24h)': 'R$161,287,835,245', 'Fornecimento Circulante': '112,559,949,271 USDT'}\n",
      "\n",
      "BNB {'Preço': 'R$3,264.01', 'Variação 1h': '0.19%', 'Variação 24h': '0.30%', 'Variação 7d': '8.86%', 'Cap. de Mercado': 'R$481,737,186,831', 'Volume (24h)': 'R$7,545,040,684', 'Fornecimento Circulante': '147,584,076 BNB'}\n",
      "\n",
      "Solana {'Preço': 'R$798.49', 'Variação 1h': '0.54%', 'Variação 24h': '2.79%', 'Variação 7d': '7.32%', 'Cap. de Mercado': 'R$368,747,220,300', 'Volume (24h)': 'R$5,482,982,773', 'Fornecimento Circulante': '461,808,053 SOL'}\n",
      "\n",
      "USDC {'Preço': 'R$5.36', 'Variação 1h': '0.17%', 'Variação 24h': '0.34%', 'Variação 7d': '0.61%', 'Cap. de Mercado': 'R$174,121,066,335', 'Volume (24h)': 'R$12,891,947,387', 'Fornecimento Circulante': '32,490,144,305 USDC'}\n",
      "\n",
      "XRP {'Preço': 'R$2.62', 'Variação 1h': '0.31%', 'Variação 24h': '0.68%', 'Variação 7d': '1.11%', 'Cap. de Mercado': 'R$145,755,144,739', 'Volume (24h)': 'R$3,787,312,738', 'Fornecimento Circulante': '55,570,463,728 XRP'}\n",
      "\n",
      "Dogecoin {'Preço': 'R$0.728', 'Variação 1h': '0.00%', 'Variação 24h': '0.54%', 'Variação 7d': '7.00%', 'Cap. de Mercado': 'R$105,375,955,266', 'Volume (24h)': 'R$1,959,632,334', 'Fornecimento Circulante': '144,737,596,384 DOGE'}\n",
      "\n",
      "Toncoin {'Preço': 'R$43.21', 'Variação 1h': '0.11%', 'Variação 24h': '1.96%', 'Variação 7d': '14.47%', 'Cap. de Mercado': 'R$105,136,085,404', 'Volume (24h)': 'R$1,342,147,322', 'Fornecimento Circulante': '2,432,953,027 TON'}\n",
      "\n",
      "Cardano {'Preço': 'R$2.23', 'Variação 1h': '0.10%', 'Variação 24h': '0.54%', 'Variação 7d': '5.98%', 'Cap. de Mercado': 'R$79,581,823,099', 'Volume (24h)': 'R$895,347,686', 'Fornecimento Circulante': '35,728,563,624 ADA'}\n",
      "\n"
     ]
    }
   ],
   "source": [
    "moedas = {moeda: {\"Preço\": precos[i]} for i, moeda in enumerate(moedas_nome)}\n",
    "\n",
    "for i, moeda in enumerate(moedas):\n",
    "  moedas[moeda]['Variação 1h'] = variacoes.pop(i-i)\n",
    "  moedas[moeda]['Variação 24h'] = variacoes.pop(i-i)\n",
    "  moedas[moeda]['Variação 7d'] = variacoes.pop(i-i)\n",
    "\n",
    "for i, moeda in enumerate(moedas):\n",
    "  moedas[moeda]['Cap. de Mercado'] = cap_mercado[i]\n",
    "\n",
    "for i, moeda in enumerate(moedas):\n",
    "  moedas[moeda]['Volume (24h)'] = volume_24h[i]\n",
    "\n",
    "for i, moeda in enumerate(moedas):\n",
    "  moedas[moeda]['Fornecimento Circulante'] = fornecimento_circulante[i]\n",
    "\n",
    "for moeda in moedas:\n",
    "  print(moeda, moedas[moeda])\n",
    "  print()"
   ]
  },
  {
   "cell_type": "markdown",
   "metadata": {},
   "source": [
    "## Criando o dataframe"
   ]
  },
  {
   "cell_type": "code",
   "execution_count": 287,
   "metadata": {},
   "outputs": [
    {
     "data": {
      "text/html": [
       "<div>\n",
       "<style scoped>\n",
       "    .dataframe tbody tr th:only-of-type {\n",
       "        vertical-align: middle;\n",
       "    }\n",
       "\n",
       "    .dataframe tbody tr th {\n",
       "        vertical-align: top;\n",
       "    }\n",
       "\n",
       "    .dataframe thead th {\n",
       "        text-align: right;\n",
       "    }\n",
       "</style>\n",
       "<table border=\"1\" class=\"dataframe\">\n",
       "  <thead>\n",
       "    <tr style=\"text-align: right;\">\n",
       "      <th></th>\n",
       "      <th>Bitcoin</th>\n",
       "      <th>Ethereum</th>\n",
       "      <th>Tether</th>\n",
       "      <th>BNB</th>\n",
       "      <th>Solana</th>\n",
       "      <th>USDC</th>\n",
       "      <th>XRP</th>\n",
       "      <th>Dogecoin</th>\n",
       "      <th>Toncoin</th>\n",
       "      <th>Cardano</th>\n",
       "    </tr>\n",
       "  </thead>\n",
       "  <tbody>\n",
       "    <tr>\n",
       "      <th>Preço</th>\n",
       "      <td>R$356,234.27</td>\n",
       "      <td>R$19,269.49</td>\n",
       "      <td>R$5.35</td>\n",
       "      <td>R$3,264.01</td>\n",
       "      <td>R$798.49</td>\n",
       "      <td>R$5.36</td>\n",
       "      <td>R$2.62</td>\n",
       "      <td>R$0.728</td>\n",
       "      <td>R$43.21</td>\n",
       "      <td>R$2.23</td>\n",
       "    </tr>\n",
       "    <tr>\n",
       "      <th>Variação 1h</th>\n",
       "      <td>0.13%</td>\n",
       "      <td>0.15%</td>\n",
       "      <td>0.17%</td>\n",
       "      <td>0.19%</td>\n",
       "      <td>0.54%</td>\n",
       "      <td>0.17%</td>\n",
       "      <td>0.31%</td>\n",
       "      <td>0.00%</td>\n",
       "      <td>0.11%</td>\n",
       "      <td>0.10%</td>\n",
       "    </tr>\n",
       "    <tr>\n",
       "      <th>Variação 24h</th>\n",
       "      <td>0.30%</td>\n",
       "      <td>0.77%</td>\n",
       "      <td>0.37%</td>\n",
       "      <td>0.30%</td>\n",
       "      <td>2.79%</td>\n",
       "      <td>0.34%</td>\n",
       "      <td>0.68%</td>\n",
       "      <td>0.54%</td>\n",
       "      <td>1.96%</td>\n",
       "      <td>0.54%</td>\n",
       "    </tr>\n",
       "    <tr>\n",
       "      <th>Variação 7d</th>\n",
       "      <td>4.06%</td>\n",
       "      <td>2.23%</td>\n",
       "      <td>0.53%</td>\n",
       "      <td>8.86%</td>\n",
       "      <td>7.32%</td>\n",
       "      <td>0.61%</td>\n",
       "      <td>1.11%</td>\n",
       "      <td>7.00%</td>\n",
       "      <td>14.47%</td>\n",
       "      <td>5.98%</td>\n",
       "    </tr>\n",
       "    <tr>\n",
       "      <th>Cap. de Mercado</th>\n",
       "      <td>R$7,022,237,295,920</td>\n",
       "      <td>R$2,315,249,946,493</td>\n",
       "      <td>R$602,734,763,544</td>\n",
       "      <td>R$481,737,186,831</td>\n",
       "      <td>R$368,747,220,300</td>\n",
       "      <td>R$174,121,066,335</td>\n",
       "      <td>R$145,755,144,739</td>\n",
       "      <td>R$105,375,955,266</td>\n",
       "      <td>R$105,136,085,404</td>\n",
       "      <td>R$79,581,823,099</td>\n",
       "    </tr>\n",
       "    <tr>\n",
       "      <th>Volume (24h)</th>\n",
       "      <td>R$65,264,938,868</td>\n",
       "      <td>R$48,289,381,483</td>\n",
       "      <td>R$161,287,835,245</td>\n",
       "      <td>R$7,545,040,684</td>\n",
       "      <td>R$5,482,982,773</td>\n",
       "      <td>R$12,891,947,387</td>\n",
       "      <td>R$3,787,312,738</td>\n",
       "      <td>R$1,959,632,334</td>\n",
       "      <td>R$1,342,147,322</td>\n",
       "      <td>R$895,347,686</td>\n",
       "    </tr>\n",
       "    <tr>\n",
       "      <th>Fornecimento Circulante</th>\n",
       "      <td>19,713,231 BTC</td>\n",
       "      <td>120,154,584 ETH</td>\n",
       "      <td>112,559,949,271 USDT</td>\n",
       "      <td>147,584,076 BNB</td>\n",
       "      <td>461,808,053 SOL</td>\n",
       "      <td>32,490,144,305 USDC</td>\n",
       "      <td>55,570,463,728 XRP</td>\n",
       "      <td>144,737,596,384 DOGE</td>\n",
       "      <td>2,432,953,027 TON</td>\n",
       "      <td>35,728,563,624 ADA</td>\n",
       "    </tr>\n",
       "  </tbody>\n",
       "</table>\n",
       "</div>"
      ],
      "text/plain": [
       "                                     Bitcoin             Ethereum  \\\n",
       "Preço                           R$356,234.27          R$19,269.49   \n",
       "Variação 1h                            0.13%                0.15%   \n",
       "Variação 24h                           0.30%                0.77%   \n",
       "Variação 7d                            4.06%                2.23%   \n",
       "Cap. de Mercado          R$7,022,237,295,920  R$2,315,249,946,493   \n",
       "Volume (24h)                R$65,264,938,868     R$48,289,381,483   \n",
       "Fornecimento Circulante       19,713,231 BTC      120,154,584 ETH   \n",
       "\n",
       "                                       Tether                BNB  \\\n",
       "Preço                                  R$5.35         R$3,264.01   \n",
       "Variação 1h                             0.17%              0.19%   \n",
       "Variação 24h                            0.37%              0.30%   \n",
       "Variação 7d                             0.53%              8.86%   \n",
       "Cap. de Mercado             R$602,734,763,544  R$481,737,186,831   \n",
       "Volume (24h)                R$161,287,835,245    R$7,545,040,684   \n",
       "Fornecimento Circulante  112,559,949,271 USDT    147,584,076 BNB   \n",
       "\n",
       "                                    Solana                 USDC  \\\n",
       "Preço                             R$798.49               R$5.36   \n",
       "Variação 1h                          0.54%                0.17%   \n",
       "Variação 24h                         2.79%                0.34%   \n",
       "Variação 7d                          7.32%                0.61%   \n",
       "Cap. de Mercado          R$368,747,220,300    R$174,121,066,335   \n",
       "Volume (24h)               R$5,482,982,773     R$12,891,947,387   \n",
       "Fornecimento Circulante    461,808,053 SOL  32,490,144,305 USDC   \n",
       "\n",
       "                                        XRP              Dogecoin  \\\n",
       "Preço                                R$2.62               R$0.728   \n",
       "Variação 1h                           0.31%                 0.00%   \n",
       "Variação 24h                          0.68%                 0.54%   \n",
       "Variação 7d                           1.11%                 7.00%   \n",
       "Cap. de Mercado           R$145,755,144,739     R$105,375,955,266   \n",
       "Volume (24h)                R$3,787,312,738       R$1,959,632,334   \n",
       "Fornecimento Circulante  55,570,463,728 XRP  144,737,596,384 DOGE   \n",
       "\n",
       "                                   Toncoin             Cardano  \n",
       "Preço                              R$43.21              R$2.23  \n",
       "Variação 1h                          0.11%               0.10%  \n",
       "Variação 24h                         1.96%               0.54%  \n",
       "Variação 7d                         14.47%               5.98%  \n",
       "Cap. de Mercado          R$105,136,085,404    R$79,581,823,099  \n",
       "Volume (24h)               R$1,342,147,322       R$895,347,686  \n",
       "Fornecimento Circulante  2,432,953,027 TON  35,728,563,624 ADA  "
      ]
     },
     "execution_count": 287,
     "metadata": {},
     "output_type": "execute_result"
    }
   ],
   "source": [
    "import pandas as pd\n",
    "\n",
    "moedas_df = pd.DataFrame(moedas)\n",
    "moedas_df"
   ]
  },
  {
   "cell_type": "markdown",
   "metadata": {},
   "source": [
    "### Criando uma função para consultar uma moeda específica"
   ]
  },
  {
   "cell_type": "code",
   "execution_count": 288,
   "metadata": {},
   "outputs": [
    {
     "name": "stdout",
     "output_type": "stream",
     "text": [
      "Dogecoin\n"
     ]
    },
    {
     "data": {
      "text/plain": [
       "{'Preço': 'R$0.728',\n",
       " 'Variação 1h': '0.00%',\n",
       " 'Variação 24h': '0.54%',\n",
       " 'Variação 7d': '7.00%',\n",
       " 'Cap. de Mercado': 'R$105,375,955,266',\n",
       " 'Volume (24h)': 'R$1,959,632,334',\n",
       " 'Fornecimento Circulante': '144,737,596,384 DOGE'}"
      ]
     },
     "execution_count": 288,
     "metadata": {},
     "output_type": "execute_result"
    }
   ],
   "source": [
    "def consultar_moeda():\n",
    "  moeda = input(\"Qual moeda você deseja consultar?\")\n",
    "  moeda = moeda.casefold()\n",
    "  moeda = moeda.title()\n",
    "  if moeda == 'Bnb':\n",
    "    moeda = moeda.upper()\n",
    "  elif moeda == 'Usdc':\n",
    "    moeda = moeda.upper()\n",
    "  elif moeda == 'Xrp':\n",
    "    moeda = moeda.upper()\n",
    "  def consultar(moeda):\n",
    "    try:\n",
    "      print(moeda)\n",
    "      return moedas[moeda]\n",
    "    except:\n",
    "      print(\"Moeda inválida!\")\n",
    "  return consultar(moeda)\n",
    "\n",
    "consultar_moeda()"
   ]
  }
 ],
 "metadata": {
  "kernelspec": {
   "display_name": "Python 3",
   "language": "python",
   "name": "python3"
  },
  "language_info": {
   "codemirror_mode": {
    "name": "ipython",
    "version": 3
   },
   "file_extension": ".py",
   "mimetype": "text/x-python",
   "name": "python",
   "nbconvert_exporter": "python",
   "pygments_lexer": "ipython3",
   "version": "3.12.3"
  }
 },
 "nbformat": 4,
 "nbformat_minor": 2
}
